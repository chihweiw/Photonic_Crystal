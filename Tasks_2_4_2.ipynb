{
 "cells": [
  {
   "cell_type": "code",
   "execution_count": 1,
   "id": "29be9fb7",
   "metadata": {},
   "outputs": [],
   "source": [
    "import meep as mp\n",
    "import numpy as np\n",
    "import matplotlib.pyplot as plt"
   ]
  },
  {
   "cell_type": "code",
   "execution_count": 346,
   "id": "6e9e7e81",
   "metadata": {},
   "outputs": [],
   "source": [
    "start_plot = True\n",
    "frq_min = 0.8/(6*np.pi) \n",
    "frq_max = 1.1/(6*np.pi)\n",
    "wvl_max = 1/frq_min\n",
    "wvl_min = 1/frq_max\n",
    "nfreq = 5000\n",
    "fcen = (frq_min + frq_max)/2\n",
    "df = frq_max - frq_min\n",
    "dfp = 1/3"
   ]
  },
  {
   "cell_type": "code",
   "execution_count": 347,
   "id": "0215ad74",
   "metadata": {},
   "outputs": [],
   "source": [
    "dpml = np.floor(0.5*wvl_max)+1\n",
    "\n",
    "dA = 2\n",
    "dB = 3\n",
    "epsilonA = 12\n",
    "epsilonB = 3\n",
    "\n",
    "NAB = 20\n",
    "\n",
    "sz = 4*dpml+(dA+dB)*NAB\n",
    "\n",
    "resolution = 50 # pixels/μm\n",
    "\n",
    "freg_p = 1\n",
    "cell_size = mp.Vector3(z=sz)\n",
    "\n",
    "pml_layers = [mp.PML(thickness=dpml)]\n",
    "source_z = -0.5*sz+dpml\n",
    "flux_z = 0.5*sz-dpml\n",
    "pt = mp.Vector3(z=flux_z-0.5)"
   ]
  },
  {
   "cell_type": "code",
   "execution_count": 348,
   "id": "63829ca9",
   "metadata": {},
   "outputs": [],
   "source": [
    "def BlockAB(N, center):\n",
    "    geometry = []\n",
    "    for i in range(N):\n",
    "        geometry = np.append(geometry, mp.Block(mp.Vector3(mp.inf,mp.inf,dA),\n",
    "                     center=mp.Vector3(z=center-(dA+dB)*N/2 + (dA+dB)*i + dA/2),\n",
    "                     material=mp.Medium(epsilon=epsilonA)))\n",
    "        geometry = np.append(geometry, mp.Block(mp.Vector3(mp.inf,mp.inf,dB),\n",
    "                     center=mp.Vector3(z=center-(dA+dB)*N/2 + (dA+dB)*i + dA + dB/2),\n",
    "                     material=mp.Medium(epsilon=epsilonB)))\n",
    "    geometry = geometry.tolist()\n",
    "    return geometry"
   ]
  },
  {
   "cell_type": "code",
   "execution_count": 349,
   "id": "19ae6604",
   "metadata": {},
   "outputs": [],
   "source": [
    "def BlockBA(N, center):\n",
    "    geometry = []\n",
    "    for i in range(N):\n",
    "        geometry = np.append(geometry, mp.Block(mp.Vector3(mp.inf,mp.inf,dB),\n",
    "                     center=mp.Vector3(z=center-(dA+dB)*N/2 + (dA+dB)*i + dB/2),\n",
    "                     material=mp.Medium(epsilon=epsilonB)))\n",
    "        geometry = np.append(geometry, mp.Block(mp.Vector3(mp.inf,mp.inf,dA),\n",
    "                     center=mp.Vector3(z=center-(dA+dB)*N/2 + (dA+dB)*i + dB + dA/2),\n",
    "                     material=mp.Medium(epsilon=epsilonA)))\n",
    "    geometry = geometry.tolist()\n",
    "    return geometry"
   ]
  },
  {
   "cell_type": "code",
   "execution_count": 350,
   "id": "a72f1ef7",
   "metadata": {},
   "outputs": [],
   "source": [
    "sources = [mp.Source(mp.GaussianSource(fcen,fwidth=df),\n",
    "                     component=mp.Ex,\n",
    "                     center=mp.Vector3(z=source_z),\n",
    "                     size=mp.Vector3())]\n",
    "geometry = sum([BlockAB(10,-10*(dA+dB)/2),BlockBA(10,10*(dA+dB)/2)],[])"
   ]
  },
  {
   "cell_type": "code",
   "execution_count": 351,
   "id": "62b9d4c1",
   "metadata": {},
   "outputs": [],
   "source": [
    "sim_vac = mp.Simulation(cell_size=cell_size,\n",
    "                    resolution=resolution,\n",
    "                    boundary_layers=pml_layers,\n",
    "                    dimensions=1,\n",
    "                    sources=sources)\n",
    "tran_fr = mp.FluxRegion(center=mp.Vector3(z=flux_z))\n",
    "tran = sim_vac.add_flux(fcen, df*dfp, nfreq, tran_fr)"
   ]
  },
  {
   "cell_type": "code",
   "execution_count": 352,
   "id": "518ea746",
   "metadata": {},
   "outputs": [
    {
     "name": "stdout",
     "output_type": "stream",
     "text": [
      "-----------\n",
      "Initializing structure...\n",
      "time for choose_chunkdivision = 0.000546932 s\n",
      "Working in 1D dimensions.\n",
      "Computational cell is 0 x 0 x 148 with resolution 50\n",
      "time for set_epsilon = 0.00806189 s\n",
      "-----------\n",
      "field decay(t = 150.02): 2.0008681918797941e-10 / 2.0008681918797941e-10 = 1.0\n",
      "field decay(t = 200.03): 1.5889570764339132e-07 / 1.5889570764339132e-07 = 1.0\n",
      "field decay(t = 250.04): 3.373208245361826e-05 / 3.373208245361826e-05 = 1.0\n",
      "field decay(t = 300.04): 0.001981443353868565 / 0.001981443353868565 = 1.0\n",
      "field decay(t = 350.05): 0.03386157020847822 / 0.03386157020847822 = 1.0\n",
      "field decay(t = 400.06): 0.1684385106513797 / 0.1684385106513797 = 1.0\n",
      "field decay(t = 450.07): 0.25000182414745736 / 0.25000182414745736 = 1.0\n",
      "field decay(t = 500.08): 0.2265009258374674 / 0.25000182414745736 = 0.9059970926606977\n",
      "field decay(t = 550.08): 0.07459786345810182 / 0.25000182414745736 = 0.2983892766082464\n",
      "field decay(t = 600.09): 0.0071517420370621 / 0.25000182414745736 = 0.02860675941645859\n",
      "field decay(t = 650.1): 0.0001995553044800223 / 0.25000182414745736 = 0.0007982153936697661\n",
      "run 0 finished at t = 650.1 (65010 timesteps)\n"
     ]
    }
   ],
   "source": [
    "sim_vac.run(until_after_sources=mp.stop_when_fields_decayed(50,mp.Ex,pt,1e-3))"
   ]
  },
  {
   "cell_type": "code",
   "execution_count": 353,
   "id": "6e0dd0cf",
   "metadata": {},
   "outputs": [],
   "source": [
    "vac_flux = mp.get_fluxes(tran)"
   ]
  },
  {
   "cell_type": "code",
   "execution_count": 354,
   "id": "24fabd77",
   "metadata": {},
   "outputs": [],
   "source": [
    "sim = mp.Simulation(cell_size=cell_size,\n",
    "                    resolution=resolution,\n",
    "                    boundary_layers=pml_layers,\n",
    "                    sources=sources,\n",
    "                    dimensions=1,\n",
    "                    geometry=geometry)\n",
    "tran = sim.add_flux(fcen, df*dfp, nfreq, tran_fr)"
   ]
  },
  {
   "cell_type": "code",
   "execution_count": 355,
   "id": "e52d3426",
   "metadata": {},
   "outputs": [
    {
     "name": "stdout",
     "output_type": "stream",
     "text": [
      "-----------\n",
      "Initializing structure...\n",
      "time for choose_chunkdivision = 0.000570059 s\n",
      "Working in 1D dimensions.\n",
      "Computational cell is 0 x 0 x 148 with resolution 50\n",
      "     block, center = (0,0,-49)\n",
      "          size (1e+20,1e+20,2)\n",
      "          axes (1,0,0), (0,1,0), (0,0,1)\n",
      "          dielectric constant epsilon diagonal = (12,12,12)\n",
      "     block, center = (0,0,-46.5)\n",
      "          size (1e+20,1e+20,3)\n",
      "          axes (1,0,0), (0,1,0), (0,0,1)\n",
      "          dielectric constant epsilon diagonal = (3,3,3)\n",
      "     block, center = (0,0,-44)\n",
      "          size (1e+20,1e+20,2)\n",
      "          axes (1,0,0), (0,1,0), (0,0,1)\n",
      "          dielectric constant epsilon diagonal = (12,12,12)\n",
      "     block, center = (0,0,-41.5)\n",
      "          size (1e+20,1e+20,3)\n",
      "          axes (1,0,0), (0,1,0), (0,0,1)\n",
      "          dielectric constant epsilon diagonal = (3,3,3)\n",
      "     block, center = (0,0,-39)\n",
      "          size (1e+20,1e+20,2)\n",
      "          axes (1,0,0), (0,1,0), (0,0,1)\n",
      "          dielectric constant epsilon diagonal = (12,12,12)\n",
      "     block, center = (0,0,-36.5)\n",
      "          size (1e+20,1e+20,3)\n",
      "          axes (1,0,0), (0,1,0), (0,0,1)\n",
      "          dielectric constant epsilon diagonal = (3,3,3)\n",
      "     block, center = (0,0,-34)\n",
      "          size (1e+20,1e+20,2)\n",
      "          axes (1,0,0), (0,1,0), (0,0,1)\n",
      "          dielectric constant epsilon diagonal = (12,12,12)\n",
      "     block, center = (0,0,-31.5)\n",
      "          size (1e+20,1e+20,3)\n",
      "          axes (1,0,0), (0,1,0), (0,0,1)\n",
      "          dielectric constant epsilon diagonal = (3,3,3)\n",
      "     block, center = (0,0,-29)\n",
      "          size (1e+20,1e+20,2)\n",
      "          axes (1,0,0), (0,1,0), (0,0,1)\n",
      "          dielectric constant epsilon diagonal = (12,12,12)\n",
      "     block, center = (0,0,-26.5)\n",
      "          size (1e+20,1e+20,3)\n",
      "          axes (1,0,0), (0,1,0), (0,0,1)\n",
      "          dielectric constant epsilon diagonal = (3,3,3)\n",
      "     ...(+ 30 objects not shown)...\n",
      "time for set_epsilon = 0.010988 s\n",
      "-----------\n",
      "field decay(t = 250.04): 3.542152543096125e-142 / 3.542152543096125e-142 = 1.0\n",
      "field decay(t = 300.04): 7.590094970812771e-13 / 7.590094970812771e-13 = 1.0\n",
      "field decay(t = 350.05): 1.400300376665548e-10 / 1.400300376665548e-10 = 1.0\n",
      "field decay(t = 400.06): 2.2049035237925645e-08 / 2.2049035237925645e-08 = 1.0\n",
      "field decay(t = 450.07): 2.3608377142100203e-06 / 2.3608377142100203e-06 = 1.0\n",
      "field decay(t = 500.08): 5.1635649627052824e-05 / 5.1635649627052824e-05 = 1.0\n",
      "field decay(t = 550.08): 0.000489945794273761 / 0.000489945794273761 = 1.0\n",
      "field decay(t = 600.09): 0.0028841890835867292 / 0.0028841890835867292 = 1.0\n",
      "field decay(t = 650.1): 0.007659219813358448 / 0.007659219813358448 = 1.0\n",
      "field decay(t = 700.11): 0.011655695035567732 / 0.011655695035567732 = 1.0\n",
      "field decay(t = 750.12): 0.012257291010601731 / 0.012257291010601731 = 1.0\n",
      "field decay(t = 800.13): 0.011361236836678763 / 0.012257291010601731 = 0.9268962307292907\n",
      "field decay(t = 850.14): 0.007478710169108825 / 0.012257291010601731 = 0.6101438044214048\n",
      "field decay(t = 900.15): 0.005062603328889377 / 0.012257291010601731 = 0.4130279133056861\n",
      "on time step 92432 (time=924.32), 4.32792e-05 s/step\n",
      "field decay(t = 950.16): 0.004161500077981448 / 0.012257291010601731 = 0.3395122196562055\n",
      "field decay(t = 1000.1700000000001): 0.003273354332080645 / 0.012257291010601731 = 0.2670536523322661\n",
      "field decay(t = 1050.17): 0.0018479962006533136 / 0.012257291010601731 = 0.15076709846041195\n",
      "field decay(t = 1100.18): 0.002078771888446277 / 0.012257291010601731 = 0.16959472420523258\n",
      "field decay(t = 1150.19): 0.003606720523802564 / 0.012257291010601731 = 0.29425103154383736\n",
      "field decay(t = 1200.2): 0.004549919564023973 / 0.012257291010601731 = 0.3712010720875109\n",
      "field decay(t = 1250.21): 0.004842028282503151 / 0.012257291010601731 = 0.39503249766323756\n",
      "field decay(t = 1300.22): 0.004822757850191876 / 0.012257291010601731 = 0.3934603368738259\n",
      "field decay(t = 1350.23): 0.004384628185925995 / 0.012257291010601731 = 0.35771592451656625\n",
      "field decay(t = 1400.24): 0.0034736063515735877 / 0.012257291010601731 = 0.2833910322084343\n",
      "field decay(t = 1450.25): 0.002210671997279428 / 0.012257291010601731 = 0.18035567527664517\n",
      "field decay(t = 1500.26): 0.000913378004850302 / 0.012257291010601731 = 0.07451711834697336\n",
      "field decay(t = 1550.27): 0.00032542868446365725 / 0.012257291010601731 = 0.02654980486162753\n",
      "field decay(t = 1600.28): 0.0008213899951073965 / 0.012257291010601731 = 0.06701235977810671\n",
      "field decay(t = 1650.29): 0.001244602897501369 / 0.012257291010601731 = 0.10153980161072063\n",
      "field decay(t = 1700.3): 0.001367534660689148 / 0.012257291010601731 = 0.1115690783148024\n",
      "field decay(t = 1750.31): 0.0014244219631429358 / 0.012257291010601731 = 0.11621017742916495\n",
      "field decay(t = 1800.32): 0.0015470951082489264 / 0.012257291010601731 = 0.12621835501097212\n",
      "field decay(t = 1850.33): 0.001590796422245223 / 0.012257291010601731 = 0.12978368718416583\n",
      "field decay(t = 1900.3400000000001): 0.00156603688536855 / 0.012257291010601731 = 0.12776370276385163\n",
      "field decay(t = 1950.3500000000001): 0.0014017240672972663 / 0.012257291010601731 = 0.1143583901275469\n",
      "field decay(t = 2000.3600000000001): 0.001255620569586311 / 0.012257291010601731 = 0.10243866842194445\n",
      "on time step 201831 (time=2018.31), 3.65637e-05 s/step\n",
      "field decay(t = 2050.36): 0.0011968845968701872 / 0.012257291010601731 = 0.0976467472164088\n",
      "field decay(t = 2100.37): 0.0010884832224025548 / 0.012257291010601731 = 0.08880291913287285\n",
      "field decay(t = 2150.38): 0.0008730772053351973 / 0.012257291010601731 = 0.07122921407185685\n",
      "field decay(t = 2200.39): 0.0006656998153462806 / 0.012257291010601731 = 0.054310517288893204\n",
      "field decay(t = 2250.4): 0.0006201073605292557 / 0.012257291010601731 = 0.050590898102435895\n",
      "field decay(t = 2300.41): 0.0007680400806670752 / 0.012257291010601731 = 0.06265985526514564\n",
      "field decay(t = 2350.42): 0.0009008704948664693 / 0.012257291010601731 = 0.07349670445837314\n",
      "field decay(t = 2400.43): 0.0009878799826169807 / 0.012257291010601731 = 0.0805952948137179\n",
      "field decay(t = 2450.44): 0.0010036176776431083 / 0.012257291010601731 = 0.08187924042719118\n",
      "field decay(t = 2500.4500000000003): 0.0009868809660093488 / 0.012257291010601731 = 0.08051379094742575\n",
      "field decay(t = 2550.46): 0.0008861961841638232 / 0.012257291010601731 = 0.072299514093067\n",
      "field decay(t = 2600.4700000000003): 0.0007146478541100868 / 0.012257291010601731 = 0.0583038987564189\n",
      "field decay(t = 2650.48): 0.0005308064720678146 / 0.012257291010601731 = 0.04330536589273297\n",
      "field decay(t = 2700.4900000000002): 0.0004039511426192639 / 0.012257291010601731 = 0.03295598858425351\n",
      "field decay(t = 2750.5): 0.00036733945258793496 / 0.012257291010601731 = 0.029969056969456877\n",
      "field decay(t = 2800.51): 0.00040018402431239204 / 0.012257291010601731 = 0.03264865164466274\n",
      "field decay(t = 2850.52): 0.0004361320825287982 / 0.012257291010601731 = 0.03558144145811446\n",
      "field decay(t = 2900.53): 0.0004572229821137269 / 0.012257291010601731 = 0.03730212342337796\n",
      "field decay(t = 2950.54): 0.00045805327577446564 / 0.012257291010601731 = 0.037369862180662954\n",
      "field decay(t = 3000.55): 0.0004404002989540269 / 0.012257291010601731 = 0.03592966003443259\n",
      "field decay(t = 3050.56): 0.00039080841305092314 / 0.012257291010601731 = 0.03188375088042702\n",
      "field decay(t = 3100.57): 0.0003217949701574421 / 0.012257291010601731 = 0.026253351566762274\n",
      "on time step 313389 (time=3133.89), 3.58559e-05 s/step\n",
      "field decay(t = 3150.58): 0.00026298973392737275 / 0.012257291010601731 = 0.021455779560092383\n",
      "field decay(t = 3200.59): 0.00022349584998453093 / 0.012257291010601731 = 0.01823370676205877\n",
      "field decay(t = 3250.6): 0.00019626432259951058 / 0.012257291010601731 = 0.01601204723211313\n",
      "field decay(t = 3300.61): 0.00017868620610196322 / 0.012257291010601731 = 0.014577952497612375\n",
      "field decay(t = 3350.62): 0.00016804994530336939 / 0.012257291010601731 = 0.013710202781186927\n",
      "field decay(t = 3400.63): 0.0001607250753006868 / 0.012257291010601731 = 0.013112609887590205\n",
      "field decay(t = 3450.64): 0.00015328506640571209 / 0.012257291010601731 = 0.012505623491612529\n",
      "field decay(t = 3500.65): 0.0001439136470669257 / 0.012257291010601731 = 0.011741064721597135\n",
      "field decay(t = 3550.66): 0.00013258558122747075 / 0.012257291010601731 = 0.010816874716672155\n",
      "field decay(t = 3600.67): 0.00011985640915470084 / 0.012257291010601731 = 0.009778376727046222\n",
      "field decay(t = 3650.6800000000003): 0.00010565788199611873 / 0.012257291010601731 = 0.008620002731821556\n",
      "field decay(t = 3700.69): 9.001947589507251e-05 / 0.012257291010601731 = 0.007344157515491125\n",
      "field decay(t = 3750.7000000000003): 7.429629299621583e-05 / 0.012257291010601731 = 0.00606139586079457\n",
      "field decay(t = 3800.71): 6.0687384328169485e-05 / 0.012257291010601731 = 0.00495112535679205\n",
      "field decay(t = 3850.7200000000003): 5.0638032823846206e-05 / 0.012257291010601731 = 0.004131258104262003\n",
      "field decay(t = 3900.73): 4.412368881813719e-05 / 0.012257291010601731 = 0.0035997912409824625\n",
      "field decay(t = 3950.7400000000002): 3.9964157196837726e-05 / 0.012257291010601731 = 0.003260439616084127\n",
      "field decay(t = 4000.75): 3.748692068475335e-05 / 0.012257291010601731 = 0.0030583365159829925\n",
      "field decay(t = 4050.76): 3.512612004021752e-05 / 0.012257291010601731 = 0.002865732730815952\n",
      "field decay(t = 4100.77): 3.163620190396186e-05 / 0.012257291010601731 = 0.002581010916408746\n",
      "field decay(t = 4150.78): 2.689782235529872e-05 / 0.012257291010601731 = 0.002194434506942351\n",
      "field decay(t = 4200.79): 2.1594363181290997e-05 / 0.012257291010601731 = 0.0017617565873742679\n",
      "field decay(t = 4250.8): 1.6675186559510813e-05 / 0.012257291010601731 = 0.0013604300122341795\n",
      "on time step 425273 (time=4252.73), 3.57516e-05 s/step\n",
      "field decay(t = 4300.81): 1.282211977756572e-05 / 0.012257291010601731 = 0.0010460810440476162\n",
      "field decay(t = 4350.82): 1.0279360533132153e-05 / 0.012257291010601731 = 0.0008386323310951171\n",
      "run 0 finished at t = 4350.82 (435082 timesteps)\n"
     ]
    }
   ],
   "source": [
    "sim.run(until_after_sources=mp.stop_when_fields_decayed(50,mp.Ex,pt,1e-3))"
   ]
  },
  {
   "cell_type": "code",
   "execution_count": 356,
   "id": "f1959180",
   "metadata": {},
   "outputs": [],
   "source": [
    "if start_plot:\n",
    "    wl=[]\n",
    "    Ts=[]"
   ]
  },
  {
   "cell_type": "code",
   "execution_count": 361,
   "id": "e1ae5dbd",
   "metadata": {},
   "outputs": [
    {
     "data": {
      "image/png": "[encoded data removed]",
      "text/plain": [
       "<Figure size 900x600 with 1 Axes>"
      ]
     },
     "metadata": {},
     "output_type": "display_data"
    }
   ],
   "source": [
    "tran_flux = mp.get_fluxes(tran)\n",
    "flux_freqs = mp.get_flux_freqs(tran)\n",
    "for i in range(nfreq):\n",
    "    wl = np.append(wl, 2*flux_freqs[i]*np.pi*3*10**3)\n",
    "    Ts = np.append(Ts,tran_flux[i]/vac_flux[i])    \n",
    "\n",
    "if mp.am_master():\n",
    "    plt.figure(dpi=150)\n",
    "    plt.plot(wl,Ts,'r.',label='$T_{num}$')\n",
    "    plt.xlabel(r'$\\omega(THz)$')\n",
    "    plt.ylabel('$T$')\n",
    "    plt.legend(loc=\"upper right\")\n",
    "    plt.savefig('Tasks_2_4(10)_r_peak.png')\n",
    "    plt.show()    "
   ]
  },
  {
   "cell_type": "code",
   "execution_count": 358,
   "id": "f4000545-a643-46cc-859f-1e0d1cd28142",
   "metadata": {},
   "outputs": [
    {
     "name": "stdout",
     "output_type": "stream",
     "text": [
      "148.0\n",
      "12.0\n",
      "23.561944901923447\n",
      "17.135959928671596\n"
     ]
    }
   ],
   "source": [
    "print(sz)\n",
    "print(dpml)\n",
    "print(wvl_max)\n",
    "print(wvl_min)"
   ]
  },
  {
   "cell_type": "code",
   "execution_count": 359,
   "id": "b50e6783-e9ed-4662-8357-337a3c353c03",
   "metadata": {},
   "outputs": [
    {
     "name": "stdout",
     "output_type": "stream",
     "text": [
      "-62.0\n",
      "62.0\n"
     ]
    }
   ],
   "source": [
    "print(source_z)\n",
    "print(flux_z)"
   ]
  },
  {
   "cell_type": "code",
   "execution_count": 360,
   "id": "50ca8890-8633-41fb-8fae-1af9e9d9979e",
   "metadata": {},
   "outputs": [
    {
     "data": {
      "text/plain": [
       "1.1038943161896715"
      ]
     },
     "execution_count": 360,
     "metadata": {},
     "output_type": "execute_result"
    }
   ],
   "source": [
    "np.max(Ts)"
   ]
  },
  {
   "cell_type": "code",
   "execution_count": null,
   "id": "226daf3f-380c-45f3-9955-63ccff21d543",
   "metadata": {},
   "outputs": [],
   "source": []
  }
 ],
 "metadata": {
  "kernelspec": {
   "display_name": "Python 3 (ipykernel)",
   "language": "python",
   "name": "python3"
  },
  "language_info": {
   "codemirror_mode": {
    "name": "ipython",
    "version": 3
   },
   "file_extension": ".py",
   "mimetype": "text/x-python",
   "name": "python",
   "nbconvert_exporter": "python",
   "pygments_lexer": "ipython3",
   "version": "3.10.5"
  }
 },
 "nbformat": 4,
 "nbformat_minor": 5
}
