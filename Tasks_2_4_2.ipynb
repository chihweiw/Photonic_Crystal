{
 "cells": [
  {
   "cell_type": "code",
   "execution_count": 15,
   "id": "29be9fb7",
   "metadata": {},
   "outputs": [],
   "source": [
    "import meep as mp\n",
    "import numpy as np\n",
    "import matplotlib.pyplot as plt"
   ]
  },
  {
   "cell_type": "code",
   "execution_count": 238,
   "id": "6e9e7e81",
   "metadata": {},
   "outputs": [],
   "source": [
    "start_plot = True\n",
    "frq_min = 0.15/(6*np.pi) \n",
    "frq_max = 0.75/(6*np.pi)\n",
    "wvl_max = 1/frq_min\n",
    "wvl_min = 1/frq_max\n",
    "nfreq = 500\n",
    "fcen = (frq_min + frq_max)/2\n",
    "df = frq_max - frq_min\n",
    "dfp = 1/2"
   ]
  },
  {
   "cell_type": "code",
   "execution_count": 239,
   "id": "0215ad74",
   "metadata": {},
   "outputs": [],
   "source": [
    "dpml = np.floor(0.5*wvl_max)+1\n",
    "\n",
    "dA = 2\n",
    "dB = 3\n",
    "epsilonA = 12\n",
    "epsilonB = 3\n",
    "\n",
    "NAB = 20\n",
    "\n",
    "sz = 4*dpml+(dA+dB)*NAB\n",
    "\n",
    "resolution = 200 # pixels/μm\n",
    "\n",
    "freg_p = 1\n",
    "cell_size = mp.Vector3(z=sz)\n",
    "\n",
    "pml_layers = [mp.PML(thickness=dpml)]"
   ]
  },
  {
   "cell_type": "code",
   "execution_count": 240,
   "id": "63829ca9",
   "metadata": {},
   "outputs": [],
   "source": [
    "def BlockAB(N, center):\n",
    "    geometry = []\n",
    "    for i in range(N):\n",
    "        geometry = np.append(geometry, mp.Block(mp.Vector3(mp.inf,mp.inf,dA),\n",
    "                     center=mp.Vector3(z=center-(dA+dB)*N/2 + (dA+dB)*i + dA/2),\n",
    "                     material=mp.Medium(epsilon=epsilonA)))\n",
    "        geometry = np.append(geometry, mp.Block(mp.Vector3(mp.inf,mp.inf,dB),\n",
    "                     center=mp.Vector3(z=center-(dA+dB)*N/2 + (dA+dB)*i + dA + dB/2),\n",
    "                     material=mp.Medium(epsilon=epsilonB)))\n",
    "    geometry = geometry.tolist()\n",
    "    return geometry"
   ]
  },
  {
   "cell_type": "code",
   "execution_count": 241,
   "id": "19ae6604",
   "metadata": {},
   "outputs": [],
   "source": [
    "def BlockBA(N, center):\n",
    "    geometry = []\n",
    "    for i in range(N):\n",
    "        geometry = np.append(geometry, mp.Block(mp.Vector3(mp.inf,mp.inf,dB),\n",
    "                     center=mp.Vector3(z=center-(dA+dB)*N/2 + (dA+dB)*i + dB/2),\n",
    "                     material=mp.Medium(epsilon=epsilonB)))\n",
    "        geometry = np.append(geometry, mp.Block(mp.Vector3(mp.inf,mp.inf,dA),\n",
    "                     center=mp.Vector3(z=center-(dA+dB)*N/2 + (dA+dB)*i + dB + dA/2),\n",
    "                     material=mp.Medium(epsilon=epsilonA)))\n",
    "    geometry = geometry.tolist()\n",
    "    return geometry"
   ]
  },
  {
   "cell_type": "code",
   "execution_count": 242,
   "id": "a72f1ef7",
   "metadata": {},
   "outputs": [],
   "source": [
    "sources = [mp.Source(mp.GaussianSource(fcen,fwidth=df),\n",
    "                     component=mp.Ex,\n",
    "                     center=mp.Vector3(z=-0.5*sz+dpml),\n",
    "                     size=mp.Vector3())]"
   ]
  },
  {
   "cell_type": "code",
   "execution_count": 243,
   "id": "62b9d4c1",
   "metadata": {},
   "outputs": [],
   "source": [
    "sim_vac = mp.Simulation(cell_size=cell_size,\n",
    "                    resolution=resolution,\n",
    "                    boundary_layers=pml_layers,\n",
    "                    dimensions=1,\n",
    "                    sources=sources)\n",
    "tran_fr = mp.FluxRegion(center=mp.Vector3(z=(dA+dB)*NAB/2+freg_p))\n",
    "tran = sim_vac.add_flux(fcen, df*dfp, nfreq, tran_fr)"
   ]
  },
  {
   "cell_type": "code",
   "execution_count": 244,
   "id": "518ea746",
   "metadata": {},
   "outputs": [
    {
     "name": "stdout",
     "output_type": "stream",
     "text": [
      "-----------\n",
      "Initializing structure...\n",
      "time for choose_chunkdivision = 0.0105591 s\n",
      "Working in 1D dimensions.\n",
      "Computational cell is 0 x 0 x 352 with resolution 200\n",
      "time for set_epsilon = 0.0861151 s\n",
      "-----------\n",
      "on time step 16152 (time=40.38), 0.000247662 s/step\n",
      "on time step 32343 (time=80.8575), 0.000247053 s/step\n",
      "on time step 48431 (time=121.078), 0.00024864 s/step\n",
      "on time step 64548 (time=161.37), 0.0002482 s/step\n",
      "field decay(t = 200.0075): 1.47995123988645e-07 / 1.47995123988645e-07 = 1.0\n",
      "on time step 80492 (time=201.23), 0.000250889 s/step\n",
      "on time step 96420 (time=241.05), 0.000251142 s/step\n",
      "field decay(t = 250.01000000000002): 0.0005824328860406799 / 0.0005824328860406799 = 1.0\n",
      "on time step 112639 (time=281.598), 0.000246638 s/step\n",
      "field decay(t = 300.01): 0.1585469625475858 / 0.1585469625475858 = 1.0\n",
      "on time step 128772 (time=321.93), 0.000247944 s/step\n",
      "field decay(t = 350.0125): 0.250000037018739 / 0.250000037018739 = 1.0\n",
      "on time step 144834 (time=362.085), 0.000249035 s/step\n",
      "field decay(t = 400.015): 0.05572035662512146 / 0.250000037018739 = 0.2228813934973333\n",
      "on time step 161092 (time=402.73), 0.000246047 s/step\n",
      "on time step 176637 (time=441.593), 0.000257325 s/step\n",
      "field decay(t = 450.0175): 0.000549871811542961 / 0.250000037018739 = 0.002199486920482915\n",
      "on time step 192462 (time=481.155), 0.000252778 s/step\n",
      "field decay(t = 500.02000000000004): 8.44136879741376e-09 / 0.250000037018739 = 3.3765470189834525e-08\n",
      "run 0 finished at t = 500.02000000000004 (200008 timesteps)\n"
     ]
    }
   ],
   "source": [
    "pt = mp.Vector3(z=(dA+dB)*NAB/2+freg_p)\n",
    "sim_vac.run(until_after_sources=mp.stop_when_fields_decayed(50,mp.Ex,pt,1e-3))"
   ]
  },
  {
   "cell_type": "code",
   "execution_count": 245,
   "id": "6e0dd0cf",
   "metadata": {},
   "outputs": [],
   "source": [
    "vac_flux = mp.get_fluxes(tran)"
   ]
  },
  {
   "cell_type": "code",
   "execution_count": 246,
   "id": "24fabd77",
   "metadata": {},
   "outputs": [],
   "source": [
    "geometry = sum([BlockAB(10,10*(dA+dB)/2),BlockBA(10,-10*(dA+dB)/2)],[])\n",
    "sim = mp.Simulation(cell_size=cell_size,\n",
    "                    resolution=resolution,\n",
    "                    boundary_layers=pml_layers,\n",
    "                    sources=sources,\n",
    "                    dimensions=1,\n",
    "                    geometry=geometry)\n",
    "tran_fr = mp.FluxRegion(center=mp.Vector3(z=(dA+dB)*NAB/2+freg_p))\n",
    "tran = sim.add_flux(fcen, df*dfp, nfreq, tran_fr)"
   ]
  },
  {
   "cell_type": "code",
   "execution_count": 247,
   "id": "e52d3426",
   "metadata": {},
   "outputs": [
    {
     "name": "stdout",
     "output_type": "stream",
     "text": [
      "-----------\n",
      "Initializing structure...\n",
      "time for choose_chunkdivision = 0.00744295 s\n",
      "Working in 1D dimensions.\n",
      "Computational cell is 0 x 0 x 352 with resolution 200\n",
      "     block, center = (0,0,1)\n",
      "          size (1e+20,1e+20,2)\n",
      "          axes (1,0,0), (0,1,0), (0,0,1)\n",
      "          dielectric constant epsilon diagonal = (12,12,12)\n",
      "     block, center = (0,0,3.5)\n",
      "          size (1e+20,1e+20,3)\n",
      "          axes (1,0,0), (0,1,0), (0,0,1)\n",
      "          dielectric constant epsilon diagonal = (3,3,3)\n",
      "     block, center = (0,0,6)\n",
      "          size (1e+20,1e+20,2)\n",
      "          axes (1,0,0), (0,1,0), (0,0,1)\n",
      "          dielectric constant epsilon diagonal = (12,12,12)\n",
      "     block, center = (0,0,8.5)\n",
      "          size (1e+20,1e+20,3)\n",
      "          axes (1,0,0), (0,1,0), (0,0,1)\n",
      "          dielectric constant epsilon diagonal = (3,3,3)\n",
      "     block, center = (0,0,11)\n",
      "          size (1e+20,1e+20,2)\n",
      "          axes (1,0,0), (0,1,0), (0,0,1)\n",
      "          dielectric constant epsilon diagonal = (12,12,12)\n",
      "     block, center = (0,0,13.5)\n",
      "          size (1e+20,1e+20,3)\n",
      "          axes (1,0,0), (0,1,0), (0,0,1)\n",
      "          dielectric constant epsilon diagonal = (3,3,3)\n",
      "     block, center = (0,0,16)\n",
      "          size (1e+20,1e+20,2)\n",
      "          axes (1,0,0), (0,1,0), (0,0,1)\n",
      "          dielectric constant epsilon diagonal = (12,12,12)\n",
      "     block, center = (0,0,18.5)\n",
      "          size (1e+20,1e+20,3)\n",
      "          axes (1,0,0), (0,1,0), (0,0,1)\n",
      "          dielectric constant epsilon diagonal = (3,3,3)\n",
      "     block, center = (0,0,21)\n",
      "          size (1e+20,1e+20,2)\n",
      "          axes (1,0,0), (0,1,0), (0,0,1)\n",
      "          dielectric constant epsilon diagonal = (12,12,12)\n",
      "     block, center = (0,0,23.5)\n",
      "          size (1e+20,1e+20,3)\n",
      "          axes (1,0,0), (0,1,0), (0,0,1)\n",
      "          dielectric constant epsilon diagonal = (3,3,3)\n",
      "     ...(+ 30 objects not shown)...\n",
      "time for set_epsilon = 0.097512 s\n",
      "-----------\n",
      "on time step 14947 (time=37.3675), 0.000267618 s/step\n",
      "on time step 29897 (time=74.7425), 0.000267567 s/step\n",
      "on time step 44849 (time=112.123), 0.000267528 s/step\n",
      "on time step 59506 (time=148.765), 0.000272923 s/step\n",
      "on time step 74237 (time=185.593), 0.000271539 s/step\n",
      "on time step 89163 (time=222.907), 0.000268006 s/step\n",
      "on time step 104073 (time=260.183), 0.000268277 s/step\n",
      "on time step 118938 (time=297.345), 0.000269097 s/step\n",
      "field decay(t = 300.01): 1.4798511550590942e-141 / 1.4798511550590942e-141 = 1.0\n",
      "on time step 133749 (time=334.373), 0.000270072 s/step\n",
      "field decay(t = 350.0125): 7.394418473652989e-09 / 7.394418473652989e-09 = 1.0\n",
      "on time step 148534 (time=371.335), 0.00027055 s/step\n",
      "field decay(t = 400.015): 3.185541386115856e-05 / 3.185541386115856e-05 = 1.0\n",
      "on time step 163552 (time=408.88), 0.000266352 s/step\n",
      "on time step 178640 (time=446.6), 0.000265127 s/step\n",
      "field decay(t = 450.0175): 0.005163759574447981 / 0.005163759574447981 = 1.0\n",
      "on time step 193615 (time=484.038), 0.000267121 s/step\n",
      "field decay(t = 500.02000000000004): 0.052450347103674244 / 0.052450347103674244 = 1.0\n",
      "on time step 208375 (time=520.938), 0.000271013 s/step\n",
      "field decay(t = 550.02): 0.06749292924833207 / 0.06749292924833207 = 1.0\n",
      "on time step 223402 (time=558.505), 0.000266195 s/step\n",
      "on time step 238281 (time=595.702), 0.000268838 s/step\n",
      "field decay(t = 600.0225): 0.02201119238148165 / 0.06749292924833207 = 0.3261259012850684\n",
      "on time step 253333 (time=633.332), 0.000265749 s/step\n",
      "on time step 432821 (time=1082.05), 0.000270316 s/step\n",
      "field decay(t = 1100.0475000000001): 0.0007707073067021853 / 0.06749292924833207 = 0.011419082195506153\n",
      "on time step 447893 (time=1119.73), 0.000265401 s/step\n",
      "field decay(t = 1150.05): 0.000514427875176148 / 0.06749292924833207 = 0.00762195212010095\n",
      "on time step 462929 (time=1157.32), 0.000266029 s/step\n",
      "on time step 478017 (time=1195.04), 0.000265112 s/step\n",
      "field decay(t = 1200.0525): 0.000420581221854591 / 0.06749292924833207 = 0.00623148567618266\n",
      "on time step 493077 (time=1232.69), 0.000265609 s/step\n",
      "field decay(t = 1250.055): 0.00013195293550513515 / 0.06749292924833207 = 0.001955063100308334\n",
      "on time step 507398 (time=1268.5), 0.000279324 s/step\n",
      "field decay(t = 1300.0575000000001): 0.0003932340906537596 / 0.06749292924833207 = 0.005826300547823348\n",
      "on time step 522396 (time=1305.99), 0.000266711 s/step\n",
      "on time step 537463 (time=1343.66), 0.000265483 s/step\n",
      "field decay(t = 1350.06): 0.0013730113009222014 / 0.06749292924833207 = 0.02034303913333458\n",
      "on time step 552501 (time=1381.25), 0.000265996 s/step\n",
      "field decay(t = 1400.0625): 0.0012611686670161678 / 0.06749292924833207 = 0.018685937639124392\n",
      "on time step 567476 (time=1418.69), 0.000267125 s/step\n",
      "field decay(t = 1450.065): 0.0002555057183344494 / 0.06749292924833207 = 0.0037856664569165016\n",
      "on time step 582286 (time=1455.71), 0.000270088 s/step\n",
      "on time step 597354 (time=1493.38), 0.00026548 s/step\n",
      "field decay(t = 1500.0675): 0.00011697543651781729 / 0.06749292924833207 = 0.001733150980711184\n",
      "on time step 612434 (time=1531.09), 0.000265265 s/step\n",
      "field decay(t = 1550.07): 0.0002687712560301055 / 0.06749292924833207 = 0.003982213529971327\n",
      "on time step 627504 (time=1568.76), 0.00026544 s/step\n",
      "field decay(t = 1600.0725): 0.00030526584434696137 / 0.06749292924833207 = 0.004522930738770762\n",
      "on time step 643470 (time=1608.67), 0.000250533 s/step\n",
      "on time step 659253 (time=1648.13), 0.000253439 s/step\n",
      "field decay(t = 1650.075): 0.00016722947790936746 / 0.06749292924833207 = 0.002477733294017612\n",
      "on time step 675774 (time=1689.43), 0.000242123 s/step\n",
      "field decay(t = 1700.0775): 0.00022539214591842503 / 0.06749292924833207 = 0.003339492720624436\n",
      "on time step 692278 (time=1730.69), 0.000242372 s/step\n",
      "field decay(t = 1750.08): 0.00025380050692562977 / 0.06749292924833207 = 0.0037604014191146085\n",
      "on time step 708754 (time=1771.88), 0.000242778 s/step\n",
      "field decay(t = 1800.0825): 0.00015311027001613402 / 0.06749292924833207 = 0.002268537930140553\n",
      "on time step 725002 (time=1812.51), 0.000246193 s/step\n",
      "field decay(t = 1850.085): 2.9097623121767563e-05 / 0.06749292924833207 = 0.00043112105884019906\n",
      "run 0 finished at t = 1850.085 (740034 timesteps)\n"
     ]
    }
   ],
   "source": [
    "pt = mp.Vector3(z=(dA+dB)*NAB/2+freg_p)\n",
    "\n",
    "sim.run(until_after_sources=mp.stop_when_fields_decayed(50,mp.Ex,pt,1e-3))"
   ]
  },
  {
   "cell_type": "code",
   "execution_count": 248,
   "id": "f1959180",
   "metadata": {},
   "outputs": [],
   "source": [
    "if start_plot:\n",
    "    wl=[]\n",
    "    Ts=[]"
   ]
  },
  {
   "cell_type": "code",
   "execution_count": 249,
   "id": "e1ae5dbd",
   "metadata": {},
   "outputs": [
    {
     "data": {
      "image/png": "[encoded data removed]",
      "text/plain": [
       "<Figure size 900x600 with 1 Axes>"
      ]
     },
     "metadata": {},
     "output_type": "display_data"
    }
   ],
   "source": [
    "tran_flux = mp.get_fluxes(tran)\n",
    "flux_freqs = mp.get_flux_freqs(tran)\n",
    "for i in range(nfreq):\n",
    "    wl = np.append(wl, 2*flux_freqs[i]*np.pi*3*10**3)\n",
    "    Ts = np.append(Ts,tran_flux[i]/vac_flux[i])    \n",
    "\n",
    "if mp.am_master():\n",
    "    plt.figure(dpi=150)\n",
    "    plt.style.use('seaborn-whitegrid')\n",
    "    plt.plot(wl,Ts,'r.',label='$T_{num}$')\n",
    "    plt.xlabel(r'$\\omega(THz)$')\n",
    "    plt.ylabel('$T$')\n",
    "    plt.legend(loc=\"upper right\")\n",
    "    plt.savefig('Tasks_2_5(10).png')\n",
    "    plt.show()    "
   ]
  },
  {
   "cell_type": "code",
   "execution_count": null,
   "id": "c53ff60e-ed91-47b7-95e0-e51115cffcc1",
   "metadata": {},
   "outputs": [],
   "source": []
  }
 ],
 "metadata": {
  "kernelspec": {
   "display_name": "Python 3 (ipykernel)",
   "language": "python",
   "name": "python3"
  },
  "language_info": {
   "codemirror_mode": {
    "name": "ipython",
    "version": 3
   },
   "file_extension": ".py",
   "mimetype": "text/x-python",
   "name": "python",
   "nbconvert_exporter": "python",
   "pygments_lexer": "ipython3",
   "version": "3.10.5"
  }
 },
 "nbformat": 4,
 "nbformat_minor": 5
}
