{
 "cells": [
  {
   "cell_type": "code",
   "execution_count": 15,
   "id": "29be9fb7",
   "metadata": {},
   "outputs": [],
   "source": [
    "import meep as mp\n",
    "import numpy as np\n",
    "import matplotlib.pyplot as plt"
   ]
  },
  {
   "cell_type": "code",
   "execution_count": 112,
   "id": "6e9e7e81",
   "metadata": {},
   "outputs": [],
   "source": [
    "start_plot = True\n",
    "frq_min = 0.3/(6*np.pi) \n",
    "frq_max = 0.6/(6*np.pi)\n",
    "wvl_max = 1/frq_min\n",
    "wvl_min = 1/frq_max\n",
    "nfreq = 100\n",
    "fcen = (frq_min + frq_max)/2\n",
    "df = frq_max - frq_min\n",
    "dfp = 1"
   ]
  },
  {
   "cell_type": "code",
   "execution_count": 113,
   "id": "0215ad74",
   "metadata": {},
   "outputs": [],
   "source": [
    "dpml = np.floor(0.5*wvl_max)+1\n",
    "\n",
    "dA = 2\n",
    "dB = 3\n",
    "epsilonA = 12\n",
    "epsilonB = 3\n",
    "\n",
    "NAB = 15\n",
    "\n",
    "sz = 4*dpml+(dA+dB)*NAB\n",
    "\n",
    "resolution = 100 # pixels/μm\n",
    "\n",
    "freg_p = 0.1\n",
    "cell_size = mp.Vector3(z=sz)\n",
    "\n",
    "pml_layers = [mp.PML(thickness=dpml)]"
   ]
  },
  {
   "cell_type": "code",
   "execution_count": 114,
   "id": "63829ca9",
   "metadata": {},
   "outputs": [],
   "source": [
    "def BlockAB(N, center):\n",
    "    geometry = []\n",
    "    for i in range(N):\n",
    "        geometry = np.append(geometry, mp.Block(mp.Vector3(mp.inf,mp.inf,dA),\n",
    "                     center=mp.Vector3(z=center-(dA+dB)*N/2 + (dA+dB)*i + dA/2),\n",
    "                     material=mp.Medium(epsilon=epsilonA)))\n",
    "        geometry = np.append(geometry, mp.Block(mp.Vector3(mp.inf,mp.inf,dB),\n",
    "                     center=mp.Vector3(z=center-(dA+dB)*N/2 + (dA+dB)*i + dA + dB/2),\n",
    "                     material=mp.Medium(epsilon=epsilonB)))\n",
    "    geometry = geometry.tolist()\n",
    "    return geometry"
   ]
  },
  {
   "cell_type": "code",
   "execution_count": 115,
   "id": "19ae6604",
   "metadata": {},
   "outputs": [],
   "source": [
    "def BlockBA(N, center):\n",
    "    geometry = []\n",
    "    for i in range(N):\n",
    "        geometry = np.append(geometry, mp.Block(mp.Vector3(mp.inf,mp.inf,dB),\n",
    "                     center=mp.Vector3(z=center-(dA+dB)*N/2 + (dA+dB)*i + dB/2),\n",
    "                     material=mp.Medium(epsilon=epsilonB)))\n",
    "        geometry = np.append(geometry, mp.Block(mp.Vector3(mp.inf,mp.inf,dA),\n",
    "                     center=mp.Vector3(z=center-(dA+dB)*N/2 + (dA+dB)*i + dB + dA/2),\n",
    "                     material=mp.Medium(epsilon=epsilonA)))\n",
    "    geometry = geometry.tolist()\n",
    "    return geometry"
   ]
  },
  {
   "cell_type": "code",
   "execution_count": 116,
   "id": "a72f1ef7",
   "metadata": {},
   "outputs": [],
   "source": [
    "sources = [mp.Source(mp.GaussianSource(fcen,fwidth=df),\n",
    "                     component=mp.Ex,\n",
    "                     center=mp.Vector3(z=-0.5*sz+dpml),\n",
    "                     size=mp.Vector3())]"
   ]
  },
  {
   "cell_type": "code",
   "execution_count": 117,
   "id": "62b9d4c1",
   "metadata": {},
   "outputs": [],
   "source": [
    "sim_vac = mp.Simulation(cell_size=cell_size,\n",
    "                    resolution=resolution,\n",
    "                    boundary_layers=pml_layers,\n",
    "                    dimensions=1,\n",
    "                    sources=sources)\n",
    "tran_fr = mp.FluxRegion(center=mp.Vector3(z=(dA+dB)*NAB/2+freg_p))\n",
    "tran = sim_vac.add_flux(fcen, df*dfp, nfreq, tran_fr)"
   ]
  },
  {
   "cell_type": "code",
   "execution_count": 118,
   "id": "518ea746",
   "metadata": {},
   "outputs": [
    {
     "name": "stdout",
     "output_type": "stream",
     "text": [
      "-----------\n",
      "Initializing structure...\n",
      "time for choose_chunkdivision = 0.00191092 s\n",
      "Working in 1D dimensions.\n",
      "Computational cell is 0 x 0 x 203 with resolution 100\n",
      "time for set_epsilon = 0.021817 s\n",
      "-----------\n",
      "field decay(t = 150.01500000000001): 2.2574074951604276e-09 / 2.2574074951604276e-09 = 1.0\n",
      "field decay(t = 200.02): 6.345475827092706e-07 / 6.345475827092706e-07 = 1.0\n",
      "field decay(t = 250.025): 7.285344054306381e-05 / 7.285344054306381e-05 = 1.0\n",
      "field decay(t = 300.03000000000003): 0.005437606859903525 / 0.005437606859903525 = 1.0\n",
      "on time step 62050 (time=310.25), 6.44645e-05 s/step\n",
      "field decay(t = 350.035): 0.04563389454240209 / 0.04563389454240209 = 1.0\n",
      "field decay(t = 400.04): 0.22203281876013473 / 0.22203281876013473 = 1.0\n",
      "field decay(t = 450.045): 0.2500001187418567 / 0.2500001187418567 = 1.0\n",
      "field decay(t = 500.05): 0.16342394253374493 / 0.2500001187418567 = 0.6536954596509293\n",
      "field decay(t = 550.0550000000001): 0.04563395199981442 / 0.2500001187418567 = 0.18253572130073584\n",
      "field decay(t = 600.0600000000001): 0.00234872649903558 / 0.2500001187418567 = 0.009394901533870114\n",
      "on time step 124472 (time=622.36), 6.40805e-05 s/step\n",
      "field decay(t = 650.065): 4.51343579609534e-05 / 0.2500001187418567 = 0.0001805373460944549\n",
      "run 0 finished at t = 650.065 (130013 timesteps)\n"
     ]
    }
   ],
   "source": [
    "pt = mp.Vector3(z=(dA+dB)*NAB/2+freg_p)\n",
    "sim_vac.run(until_after_sources=mp.stop_when_fields_decayed(50,mp.Ex,pt,1e-3))"
   ]
  },
  {
   "cell_type": "code",
   "execution_count": 119,
   "id": "6e0dd0cf",
   "metadata": {},
   "outputs": [],
   "source": [
    "vac_flux = mp.get_fluxes(tran)"
   ]
  },
  {
   "cell_type": "code",
   "execution_count": 120,
   "id": "24fabd77",
   "metadata": {},
   "outputs": [],
   "source": [
    "sim = mp.Simulation(cell_size=cell_size,\n",
    "                    resolution=resolution,\n",
    "                    boundary_layers=pml_layers,\n",
    "                    sources=sources,\n",
    "                    dimensions=1,\n",
    "                    geometry=BlockAB(NAB,0))\n",
    "tran_fr = mp.FluxRegion(center=mp.Vector3(z=(dA+dB)*NAB/2+freg_p))\n",
    "tran = sim.add_flux(fcen, df*dfp, nfreq, tran_fr)"
   ]
  },
  {
   "cell_type": "code",
   "execution_count": 121,
   "id": "e52d3426",
   "metadata": {},
   "outputs": [
    {
     "name": "stdout",
     "output_type": "stream",
     "text": [
      "-----------\n",
      "Initializing structure...\n",
      "time for choose_chunkdivision = 0.00226998 s\n",
      "Working in 1D dimensions.\n",
      "Computational cell is 0 x 0 x 203 with resolution 100\n",
      "     block, center = (0,0,-36.5)\n",
      "          size (1e+20,1e+20,2)\n",
      "          axes (1,0,0), (0,1,0), (0,0,1)\n",
      "          dielectric constant epsilon diagonal = (12,12,12)\n",
      "     block, center = (0,0,-34)\n",
      "          size (1e+20,1e+20,3)\n",
      "          axes (1,0,0), (0,1,0), (0,0,1)\n",
      "          dielectric constant epsilon diagonal = (3,3,3)\n",
      "     block, center = (0,0,-31.5)\n",
      "          size (1e+20,1e+20,2)\n",
      "          axes (1,0,0), (0,1,0), (0,0,1)\n",
      "          dielectric constant epsilon diagonal = (12,12,12)\n",
      "     block, center = (0,0,-29)\n",
      "          size (1e+20,1e+20,3)\n",
      "          axes (1,0,0), (0,1,0), (0,0,1)\n",
      "          dielectric constant epsilon diagonal = (3,3,3)\n",
      "     block, center = (0,0,-26.5)\n",
      "          size (1e+20,1e+20,2)\n",
      "          axes (1,0,0), (0,1,0), (0,0,1)\n",
      "          dielectric constant epsilon diagonal = (12,12,12)\n",
      "     block, center = (0,0,-24)\n",
      "          size (1e+20,1e+20,3)\n",
      "          axes (1,0,0), (0,1,0), (0,0,1)\n",
      "          dielectric constant epsilon diagonal = (3,3,3)\n",
      "     block, center = (0,0,-21.5)\n",
      "          size (1e+20,1e+20,2)\n",
      "          axes (1,0,0), (0,1,0), (0,0,1)\n",
      "          dielectric constant epsilon diagonal = (12,12,12)\n",
      "     block, center = (0,0,-19)\n",
      "          size (1e+20,1e+20,3)\n",
      "          axes (1,0,0), (0,1,0), (0,0,1)\n",
      "          dielectric constant epsilon diagonal = (3,3,3)\n",
      "     block, center = (0,0,-16.5)\n",
      "          size (1e+20,1e+20,2)\n",
      "          axes (1,0,0), (0,1,0), (0,0,1)\n",
      "          dielectric constant epsilon diagonal = (12,12,12)\n",
      "     block, center = (0,0,-14)\n",
      "          size (1e+20,1e+20,3)\n",
      "          axes (1,0,0), (0,1,0), (0,0,1)\n",
      "          dielectric constant epsilon diagonal = (3,3,3)\n",
      "     ...(+ 20 objects not shown)...\n",
      "time for set_epsilon = 0.0271969 s\n",
      "-----------\n",
      "field decay(t = 200.02): 7.716042252888074e-252 / 7.716042252888074e-252 = 1.0\n",
      "field decay(t = 250.025): 2.0966270797589213e-11 / 2.0966270797589213e-11 = 1.0\n",
      "on time step 57903 (time=289.515), 6.90813e-05 s/step\n",
      "field decay(t = 300.03000000000003): 6.230867882569505e-09 / 6.230867882569505e-09 = 1.0\n",
      "field decay(t = 350.035): 3.1901910165533514e-06 / 3.1901910165533514e-06 = 1.0\n",
      "field decay(t = 400.04): 0.0002355189025572183 / 0.0002355189025572183 = 1.0\n",
      "field decay(t = 450.045): 0.0037882670834726985 / 0.0037882670834726985 = 1.0\n",
      "field decay(t = 500.05): 0.04279315493288865 / 0.04279315493288865 = 1.0\n",
      "field decay(t = 550.0550000000001): 0.11774132557510722 / 0.11774132557510722 = 1.0\n",
      "on time step 115583 (time=577.915), 6.93484e-05 s/step\n",
      "field decay(t = 600.0600000000001): 0.12934607306563237 / 0.12934607306563237 = 1.0\n",
      "field decay(t = 650.065): 0.08635728767575808 / 0.12934607306563237 = 0.6676452220697797\n",
      "field decay(t = 700.07): 0.020313316292817414 / 0.12934607306563237 = 0.15704625437302683\n",
      "field decay(t = 750.075): 0.0007701373306347727 / 0.12934607306563237 = 0.005954083586627265\n",
      "field decay(t = 800.08): 5.1521821243869386e-06 / 0.12934607306563237 = 3.9832536096960865e-05\n",
      "run 0 finished at t = 800.08 (160016 timesteps)\n"
     ]
    }
   ],
   "source": [
    "pt = mp.Vector3(z=(dA+dB)*NAB/2+freg_p)\n",
    "\n",
    "sim.run(until_after_sources=mp.stop_when_fields_decayed(50,mp.Ex,pt,1e-3))"
   ]
  },
  {
   "cell_type": "code",
   "execution_count": 122,
   "id": "f1959180",
   "metadata": {},
   "outputs": [],
   "source": [
    "if start_plot:\n",
    "    wl=[]\n",
    "    Ts=[]"
   ]
  },
  {
   "cell_type": "code",
   "execution_count": 123,
   "id": "e1ae5dbd",
   "metadata": {},
   "outputs": [
    {
     "data": {
      "image/png": "[encoded data removed]",
      "text/plain": [
       "<Figure size 900x600 with 1 Axes>"
      ]
     },
     "metadata": {},
     "output_type": "display_data"
    }
   ],
   "source": [
    "tran_flux = mp.get_fluxes(tran)\n",
    "flux_freqs = mp.get_flux_freqs(tran)\n",
    "for i in range(nfreq):\n",
    "    wl = np.append(wl, 2*flux_freqs[i]*np.pi*3*10**3)\n",
    "    Ts = np.append(Ts,tran_flux[i]/vac_flux[i])    \n",
    "\n",
    "if mp.am_master():\n",
    "    plt.figure(dpi=150)\n",
    "    plt.style.use('seaborn-whitegrid')\n",
    "    plt.plot(wl,Ts,'r.',label='$T_{num}$')\n",
    "    plt.xlabel(r'$\\omega(THz)$')\n",
    "    plt.ylabel('$T$')\n",
    "    plt.legend(loc=\"upper right\")\n",
    "    plt.savefig('Tasks_2_3.png')\n",
    "    plt.show()    "
   ]
  }
 ],
 "metadata": {
  "kernelspec": {
   "display_name": "Python 3 (ipykernel)",
   "language": "python",
   "name": "python3"
  },
  "language_info": {
   "codemirror_mode": {
    "name": "ipython",
    "version": 3
   },
   "file_extension": ".py",
   "mimetype": "text/x-python",
   "name": "python",
   "nbconvert_exporter": "python",
   "pygments_lexer": "ipython3",
   "version": "3.10.5"
  }
 },
 "nbformat": 4,
 "nbformat_minor": 5
}
