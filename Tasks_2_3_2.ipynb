{
 "cells": [
  {
   "cell_type": "code",
   "execution_count": 1,
   "id": "29be9fb7",
   "metadata": {},
   "outputs": [],
   "source": [
    "import meep as mp\n",
    "import numpy as np\n",
    "import matplotlib.pyplot as plt"
   ]
  },
  {
   "cell_type": "markdown",
   "id": "9eeecb12-b1a3-4e63-a1b8-56bae912a6ac",
   "metadata": {},
   "source": [
    "Use one unit length to represent 100nm, so one unit frequency = 1/(100nm) => c/(100nm)=3000 THz. Conversely, if $\\omega=x$THz, this corresponding to the frequency $f= x/1000/(6\\pi)$ units.\n",
    "\n",
    "Here we set the frequency range of the source from $250$THz to $1250$THz and divide this range to 1000(nfreq) segments. The 'dfp' parameter control how much of this range that we want the flux detector to monitor."
   ]
  },
  {
   "cell_type": "code",
   "execution_count": 128,
   "id": "6e9e7e81",
   "metadata": {},
   "outputs": [],
   "source": [
    "start_plot = True\n",
    "frq_min = 0.25/(6*np.pi)\n",
    "frq_max = 1.25/(6*np.pi)\n",
    "wvl_max = 1/frq_min\n",
    "wvl_min = 1/frq_max\n",
    "nfreq = 1000\n",
    "fcen = (frq_min + frq_max)/2\n",
    "df = frq_max - frq_min\n",
    "dfp = 1/2"
   ]
  },
  {
   "cell_type": "markdown",
   "id": "e7ef33e6-6a91-49cf-a718-669fd65addbf",
   "metadata": {},
   "source": [
    "In the following, we setup the several parameters of the simulation including the paramters of the two layers. \n",
    "\n",
    "The simulation is one dimensional so the boundary is at the left and right ends. The boundary is choosen as PML to absorpt all of the incoming waves without reflecting and the width of the PML is choosen to be more than 1/2 of the longest wavelength in the wave. The size of the cell to do the simulation (sz) is choosen to be 4 times the thickness of the PML plus the size of the geometry.\n",
    "\n",
    "The resolution is set at 100 which should be more than enough considering the frequency range of the source and the size of the geometry.\n",
    "\n",
    "The position of the source and the flux detector is set by source_z and flux_reg respectively."
   ]
  },
  {
   "cell_type": "code",
   "execution_count": 129,
   "id": "0215ad74",
   "metadata": {},
   "outputs": [],
   "source": [
    "dpml = np.floor(0.5*wvl_max)+1\n",
    "\n",
    "dA = 2\n",
    "dB = 3\n",
    "epsilonA = 12\n",
    "epsilonB = 3\n",
    "\n",
    "NAB = 1\n",
    "\n",
    "sz = 4*dpml+(dA+dB)*NAB\n",
    "\n",
    "resolution = 100 # pixels/μm\n",
    "\n",
    "freg_p = 0.1\n",
    "cell_size = mp.Vector3(z=sz)\n",
    "\n",
    "pml_layers = [mp.PML(thickness=dpml)]\n",
    "\n",
    "source_z=-sz/2+dpml\n",
    "flux_reg_z=sz/2-dpml"
   ]
  },
  {
   "cell_type": "markdown",
   "id": "89aa7309-b20c-423f-88d1-92e8460f200f",
   "metadata": {},
   "source": [
    "Here, we define two functions to make adding the two layers of the geometries more conveniently. "
   ]
  },
  {
   "cell_type": "code",
   "execution_count": 130,
   "id": "63829ca9",
   "metadata": {},
   "outputs": [],
   "source": [
    "def BlockAB(N, center):\n",
    "    geometry = []\n",
    "    for i in range(N):\n",
    "        geometry = np.append(geometry, mp.Block(mp.Vector3(mp.inf,mp.inf,dA),\n",
    "                     center=mp.Vector3(z=center-(dA+dB)*N/2 + (dA+dB)*i + dA/2),\n",
    "                     material=mp.Medium(epsilon=epsilonA)))\n",
    "        geometry = np.append(geometry, mp.Block(mp.Vector3(mp.inf,mp.inf,dB),\n",
    "                     center=mp.Vector3(z=center-(dA+dB)*N/2 + (dA+dB)*i + dA + dB/2),\n",
    "                     material=mp.Medium(epsilon=epsilonB)))\n",
    "    geometry = geometry.tolist()\n",
    "    return geometry"
   ]
  },
  {
   "cell_type": "code",
   "execution_count": 131,
   "id": "19ae6604",
   "metadata": {},
   "outputs": [],
   "source": [
    "def BlockBA(N, center):\n",
    "    geometry = []\n",
    "    for i in range(N):\n",
    "        geometry = np.append(geometry, mp.Block(mp.Vector3(mp.inf,mp.inf,dB),\n",
    "                     center=mp.Vector3(z=center-(dA+dB)*N/2 + (dA+dB)*i + dB/2),\n",
    "                     material=mp.Medium(epsilon=epsilonB)))\n",
    "        geometry = np.append(geometry, mp.Block(mp.Vector3(mp.inf,mp.inf,dA),\n",
    "                     center=mp.Vector3(z=center-(dA+dB)*N/2 + (dA+dB)*i + dB + dA/2),\n",
    "                     material=mp.Medium(epsilon=epsilonA)))\n",
    "    geometry = geometry.tolist()\n",
    "    return geometry"
   ]
  },
  {
   "cell_type": "markdown",
   "id": "d6a04d31-da4c-45ae-8453-b9378abfb882",
   "metadata": {},
   "source": [
    "Here, we choose the source to be GaussianSource and set the range of the frquency and the position."
   ]
  },
  {
   "cell_type": "code",
   "execution_count": 132,
   "id": "a72f1ef7",
   "metadata": {},
   "outputs": [],
   "source": [
    "sources = [mp.Source(mp.GaussianSource(fcen,fwidth=df),\n",
    "                     component=mp.Ex,\n",
    "                     center=mp.Vector3(z=source_z),\n",
    "                     size=mp.Vector3())]"
   ]
  },
  {
   "cell_type": "markdown",
   "id": "d8356667-6731-4f93-90a1-33af6582e087",
   "metadata": {},
   "source": [
    "First, we define a vacuum simulation without the geometries. We use \"FluxRegeion\" to define the region where the flux is monitored and use add_flux to add up all the flux through this region."
   ]
  },
  {
   "cell_type": "code",
   "execution_count": 133,
   "id": "62b9d4c1",
   "metadata": {},
   "outputs": [],
   "source": [
    "sim_vac = mp.Simulation(cell_size=cell_size,\n",
    "                    resolution=resolution,\n",
    "                    boundary_layers=pml_layers,\n",
    "                    dimensions=1,\n",
    "                    sources=sources)\n",
    "tran_fr = mp.FluxRegion(center=mp.Vector3(z=flux_reg_z))\n",
    "tran = sim_vac.add_flux(fcen, df*dfp, nfreq, tran_fr)"
   ]
  },
  {
   "cell_type": "markdown",
   "id": "b4581693-4b43-4999-9a0b-04f361fe19b1",
   "metadata": {},
   "source": [
    "Then, we run the simulation in vaccum in order to get the reference flux. The simulation run until the field decay to 1/1000 at some point. It is unclear that how to setup the position of this point appropriately. Here, we set the point at the same position of the flux region. But, in the official meep examples, they set this point before the region."
   ]
  },
  {
   "cell_type": "code",
   "execution_count": 134,
   "id": "518ea746",
   "metadata": {},
   "outputs": [
    {
     "name": "stdout",
     "output_type": "stream",
     "text": [
      "-----------\n",
      "Initializing structure...\n",
      "time for choose_chunkdivision = 0.00250983 s\n",
      "Working in 1D dimensions.\n",
      "Computational cell is 0 x 0 x 157 with resolution 100\n",
      "time for set_epsilon = 0.0177429 s\n",
      "-----------\n",
      "field decay(t = 50.005): 7.957636837758343e-10 / 7.957636837758343e-10 = 1.0\n",
      "field decay(t = 100.01): 0.008412536735237598 / 0.008412536735237598 = 1.0\n",
      "field decay(t = 150.01500000000001): 0.2500004117359742 / 0.2500004117359742 = 1.0\n",
      "field decay(t = 200.02): 0.05848705938590039 / 0.2500004117359742 = 0.23394785224461412\n",
      "field decay(t = 250.025): 2.5092770949987e-07 / 0.2500004117359742 = 1.0037091849467638e-06\n",
      "run 0 finished at t = 250.025 (50005 timesteps)\n"
     ]
    }
   ],
   "source": [
    "pt = mp.Vector3(z=flux_reg_z)\n",
    "sim_vac.run(until_after_sources=mp.stop_when_fields_decayed(50,mp.Ex,mp.Vector3(z=0),1e-3))"
   ]
  },
  {
   "cell_type": "markdown",
   "id": "e4009f34-941d-4698-ac86-43b1931ebd1d",
   "metadata": {},
   "source": [
    "---\n",
    "After the simulation, we can obtain a list of the frequencies and the corresponding flux."
   ]
  },
  {
   "cell_type": "code",
   "execution_count": 135,
   "id": "6e0dd0cf",
   "metadata": {},
   "outputs": [],
   "source": [
    "vac_flux = mp.get_fluxes(tran)\n",
    "flux_freqs = mp.get_flux_freqs(tran)"
   ]
  },
  {
   "cell_type": "markdown",
   "id": "e2f17f05-c862-415d-a455-a5e39da0dc6f",
   "metadata": {},
   "source": [
    "Then, we can define actual simulaiton containing the geometries. The parts that define the flux region and adding flux are the same."
   ]
  },
  {
   "cell_type": "code",
   "execution_count": 136,
   "id": "24fabd77",
   "metadata": {},
   "outputs": [],
   "source": [
    "sim = mp.Simulation(cell_size=cell_size,\n",
    "                    resolution=resolution,\n",
    "                    boundary_layers=pml_layers,\n",
    "                    sources=sources,\n",
    "                    dimensions=1,\n",
    "                    geometry=BlockAB(NAB,0))\n",
    "tran_fr = mp.FluxRegion(center=mp.Vector3(z=flux_reg_z))\n",
    "tran = sim.add_flux(fcen, df*dfp, nfreq, tran_fr)"
   ]
  },
  {
   "cell_type": "markdown",
   "id": "6c737e66-fe56-45d7-9def-94a7367b5a0d",
   "metadata": {},
   "source": [
    "Now, we can do an actual simulation with the geometries."
   ]
  },
  {
   "cell_type": "code",
   "execution_count": 137,
   "id": "e52d3426",
   "metadata": {},
   "outputs": [
    {
     "name": "stdout",
     "output_type": "stream",
     "text": [
      "-----------\n",
      "Initializing structure...\n",
      "time for choose_chunkdivision = 0.00229406 s\n",
      "Working in 1D dimensions.\n",
      "Computational cell is 0 x 0 x 157 with resolution 100\n",
      "     block, center = (0,0,-1.5)\n",
      "          size (1e+20,1e+20,2)\n",
      "          axes (1,0,0), (0,1,0), (0,0,1)\n",
      "          dielectric constant epsilon diagonal = (12,12,12)\n",
      "     block, center = (0,0,1)\n",
      "          size (1e+20,1e+20,3)\n",
      "          axes (1,0,0), (0,1,0), (0,0,1)\n",
      "          dielectric constant epsilon diagonal = (3,3,3)\n",
      "time for set_epsilon = 0.0237551 s\n",
      "-----------\n",
      "field decay(t = 50.005): 2.2684848748117025e-12 / 2.2684848748117025e-12 = 1.0\n",
      "field decay(t = 100.01): 0.00025088782800192656 / 0.00025088782800192656 = 1.0\n",
      "field decay(t = 150.01500000000001): 0.06742661912897592 / 0.06742661912897592 = 1.0\n",
      "field decay(t = 200.02): 0.044117900901471385 / 0.06742661912897592 = 0.6543098478225813\n",
      "field decay(t = 250.025): 4.703221092811522e-05 / 0.06742661912897592 = 0.0006975317988011592\n",
      "run 0 finished at t = 250.025 (50005 timesteps)\n"
     ]
    }
   ],
   "source": [
    "pt = mp.Vector3(z=flux_reg_z)\n",
    "\n",
    "sim.run(until_after_sources=mp.stop_when_fields_decayed(50,mp.Ex,mp.Vector3(z=0),1e-3))"
   ]
  },
  {
   "cell_type": "markdown",
   "id": "4176ab1d-a7cc-41b9-946e-657a5c99f97d",
   "metadata": {},
   "source": [
    "---\n",
    "If we want to patch the graph with several ranges of the frequency, we can set \"start_plot\" to false in order to do the next part of the range."
   ]
  },
  {
   "cell_type": "code",
   "execution_count": 138,
   "id": "f1959180",
   "metadata": {},
   "outputs": [],
   "source": [
    "if start_plot:\n",
    "    wl=[]\n",
    "    Ts=[]"
   ]
  },
  {
   "cell_type": "markdown",
   "id": "fa0cd54e-8d91-4771-8acc-ecbcab1a9b41",
   "metadata": {},
   "source": [
    "Here, we make a list of $T$ vs $\\omega$ in order to plot them."
   ]
  },
  {
   "cell_type": "code",
   "execution_count": 139,
   "id": "e1ae5dbd",
   "metadata": {},
   "outputs": [
    {
     "data": {
      "image/png": "[encoded data removed]",
      "text/plain": [
       "<Figure size 900x600 with 1 Axes>"
      ]
     },
     "metadata": {},
     "output_type": "display_data"
    }
   ],
   "source": [
    "tran_flux = mp.get_fluxes(tran)\n",
    "\n",
    "for i in range(nfreq):\n",
    "    wl = np.append(wl, 2*flux_freqs[i]*np.pi*3*10**3)\n",
    "    Ts = np.append(Ts,tran_flux[i]/vac_flux[i])    \n",
    "\n",
    "if mp.am_master():\n",
    "    plt.figure(dpi=150)\n",
    "    plt.style.use('seaborn-whitegrid')\n",
    "    plt.plot(wl,Ts,'r.',label='$T_{num}$')\n",
    "    plt.xlabel(r'$\\omega(THz)$')\n",
    "    plt.ylabel('$T$')\n",
    "    plt.legend(loc=\"upper right\")\n",
    "    plt.savefig('Tasks_2_2(500-1000).png')\n",
    "    plt.show()    "
   ]
  }
 ],
 "metadata": {
  "kernelspec": {
   "display_name": "Python 3 (ipykernel)",
   "language": "python",
   "name": "python3"
  },
  "language_info": {
   "codemirror_mode": {
    "name": "ipython",
    "version": 3
   },
   "file_extension": ".py",
   "mimetype": "text/x-python",
   "name": "python",
   "nbconvert_exporter": "python",
   "pygments_lexer": "ipython3",
   "version": "3.10.5"
  }
 },
 "nbformat": 4,
 "nbformat_minor": 5
}
